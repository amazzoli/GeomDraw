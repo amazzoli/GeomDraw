{
 "cells": [
  {
   "cell_type": "code",
   "execution_count": 1,
   "metadata": {},
   "outputs": [],
   "source": [
    "import numpy as np\n",
    "import matplotlib.pyplot as plt"
   ]
  },
  {
   "cell_type": "code",
   "execution_count": 2,
   "metadata": {},
   "outputs": [],
   "source": [
    "class Pixel:\n",
    "    \n",
    "    def __init__(self, pos):\n",
    "        \"\"\"\n",
    "        Square of unit side. Its center (x,y) has integer coordinates.\n",
    "        At creation, the class computes also the boundaries of the pixels\n",
    "        x1, x2, y1, y2.\n",
    "        \"\"\"\n",
    "        self.x = round(pos[0])\n",
    "        self.y = round(pos[1])\n",
    "        self.x1 = self.x - 0.5\n",
    "        self.x2 = self.x + 0.5\n",
    "        self.y1 = self.y - 0.5\n",
    "        self.y2 = self.y + 0.5\n",
    "        \n",
    "class Line:\n",
    "    \n",
    "    def __init__(self, p1, p2):\n",
    "        \"\"\"\n",
    "        Line that passes between two points. Also the angular coef and intercept\n",
    "        of the inverse line are computed at creation.\n",
    "        \"\"\"\n",
    "        if p2[0] - p1[0] != 0:\n",
    "            self.m = (p2[1] - p1[1]) / (p2[0] - p1[0])\n",
    "            self.b = p1[1] - self.m * p1[0]\n",
    "        else:\n",
    "            self.m = None\n",
    "            self.b = None\n",
    "\n",
    "        if self.m == None:\n",
    "            self.m_inv = 0\n",
    "            self.b_inv = p1[0]\n",
    "        elif self.m != 0:\n",
    "            self.m_inv = 1/self.m\n",
    "            self.b_inv = -self.b/self.m\n",
    "        else:\n",
    "            self.m_inv = None\n",
    "            self.b_inv = None      \n",
    "            \n",
    "    def y(self, x):\n",
    "        \"\"\"Position along the line at given x\"\"\"\n",
    "        if self.m != None:\n",
    "            return self.m * x + self.b \n",
    "        else:\n",
    "            return None\n",
    "    \n",
    "    def x(self, y):\n",
    "        \"\"\"Position along the inverse line at given y\"\"\"\n",
    "        if self.m_inv != None:\n",
    "            return self.m_inv * y + self.b_inv \n",
    "        else:\n",
    "            return None"
   ]
  },
  {
   "cell_type": "code",
   "execution_count": 3,
   "metadata": {},
   "outputs": [],
   "source": [
    "def area_triangle(p1, p2, p3):\n",
    "    p1, p2, p3 = np.array(p1), np.array(p2), np.array(p3)\n",
    "    a, b, c = np.linalg.norm(p1-p2), np.linalg.norm(p2-p3), np.linalg.norm(p3-p1)\n",
    "    s =  (a + b + c)/2\n",
    "    return np.sqrt( s*(s - a)*(s - b)*(s - c) )\n",
    "\n",
    "def area_quadrilateral(p1, p2, p3, p4):\n",
    "    p1, p2, p3, p4 = np.array(p1), np.array(p2), np.array(p3), np.array(p4)\n",
    "    diag = np.linalg.norm(p1-p3)\n",
    "    a, b = np.linalg.norm(p1-p2), np.linalg.norm(p2-p3)\n",
    "    s =  (a + b + diag)/2\n",
    "    a1 = np.sqrt( s*(s - a)*(s - b)*(s - diag) )\n",
    "    a, b = np.linalg.norm(p3-p4), np.linalg.norm(p4-p1)\n",
    "    s =  (a + b + diag)/2\n",
    "    a2 = np.sqrt( s*(s - a)*(s - b)*(s - diag) )\n",
    "    return a1 + a2"
   ]
  },
  {
   "cell_type": "code",
   "execution_count": 4,
   "metadata": {},
   "outputs": [],
   "source": [
    "def area_pixel_below_line(pixel, line, orient):\n",
    "    \"\"\"\n",
    "    It computes the area within the pixel below the line.\n",
    "    In the case of vertical line the are computed is on the right of the line.\n",
    "    \"\"\"\n",
    "    x1, x2, y1, y2 = pixel.x1, pixel.x2, pixel.y1, pixel.y2\n",
    "    l_x1 = line.y(x1)\n",
    "    l_x2 = line.y(x2)\n",
    "    l_y1 = line.x(y1)\n",
    "    l_y2 = line.x(y2)\n",
    "    \n",
    "    area = 1\n",
    "    if line.m == None:\n",
    "        area = x2 - line.b_inv\n",
    "        \n",
    "    elif line.m >= 1:\n",
    "        if l_x2 < y1:\n",
    "            area = 0\n",
    "        elif l_x2 < y2:\n",
    "            area = (l_x2 - y1) * (x2 - l_y1) * 0.5\n",
    "        elif l_x1 < y1:\n",
    "            area = x2 - l_y2 + (l_y2 - l_y1) * 0.5\n",
    "        elif l_x1 < y2:\n",
    "            area = 1 - (y2 - l_x1) * (l_y2 - x1) * 0.5\n",
    "        \n",
    "    elif line.m >= 0:\n",
    "        if l_x2 < y1:\n",
    "            area = 0\n",
    "        elif l_x1 < y1:\n",
    "            area = (l_x2 - y1) * (x2 - l_y1) * 0.5\n",
    "        elif l_x2 < y2:\n",
    "            area = l_x1 - y1 + (l_x2 - l_x1) * 0.5\n",
    "        elif l_x1 < y2:\n",
    "            area = 1 - (y2 - l_x1) * (l_y2 - x1) * 0.5\n",
    "        \n",
    "    elif line.m >= -1:\n",
    "        if l_x1 < y1:\n",
    "            area = 0\n",
    "        elif l_x2 < y1:\n",
    "            area = (l_x1 - y1) * (l_y1 - x1) * 0.5\n",
    "        elif l_x1 < y2:\n",
    "            area = l_x2 - y1 + (l_x1 - l_x2) * 0.5\n",
    "        elif l_x2 < y2:\n",
    "            area = 1 - (y2 - l_x2) * (x2 - l_y2) * 0.5\n",
    "\n",
    "    else:\n",
    "        if l_x1 < y1:\n",
    "            area = 0\n",
    "        elif l_x1 < y2:\n",
    "            area = (l_x1 - y1) * (l_y1 - x1) * 0.5\n",
    "        elif l_x2 < y1:\n",
    "            area = l_y2 - x1 + (l_y1 - l_y2) * 0.5\n",
    "        elif l_x2 < y2:\n",
    "            area = 1 - (y2 - l_x2) * (x2 - l_y2) * 0.5\n",
    "    \n",
    "    if orient:\n",
    "        return area\n",
    "    else:\n",
    "        return 1 - area"
   ]
  },
  {
   "cell_type": "code",
   "execution_count": 5,
   "metadata": {},
   "outputs": [],
   "source": [
    "dx_th = 1e-8\n",
    "\n",
    "def find_intersection(pixel, point, adj_point, line):\n",
    "    \"\"\"\n",
    "    It finds the intersection of the line connecting the point inside the pixel\n",
    "    to the adj_point with a border of the pixel.\n",
    "    It return an integer specifying the side of the pixel intersecting the line\n",
    "    (0 -> north, 1 -> west, 2 -> south, 3 -> east) and the point of \n",
    "    the intersection (only the non trivial coordinate).\n",
    "    \"\"\"\n",
    "    dx = point[0] - adj_point[0]\n",
    "    dy = point[1] - adj_point[1]\n",
    "    \n",
    "    if dx >= dx_th:\n",
    "        l_x1 = line.y(pixel.x1)\n",
    "        if dy >= dx_th:\n",
    "            if l_x1 < pixel.y1:\n",
    "                return 2, line.x(pixel.y1)\n",
    "            else:\n",
    "                return 1, l_x1\n",
    "        elif dy < dx_th and dy > -dx_th:\n",
    "            return 1, point[1]\n",
    "        else:\n",
    "            if l_x1 > pixel.y2:\n",
    "                return 0, line.x(pixel.y2)\n",
    "            else:\n",
    "                return 1, l_x1 \n",
    "    elif dx < dx_th and dx > -dx_th:\n",
    "        if dy > 0:\n",
    "            return 2, point[0]\n",
    "        else:\n",
    "            return 0, point[0]\n",
    "    else:\n",
    "        l_x2 = line.y(pixel.x2)\n",
    "        if dy > dx_th:\n",
    "            if l_x2 < pixel.y1:\n",
    "                return 2, line.x(pixel.y1)\n",
    "            else:\n",
    "                return 3, l_x2\n",
    "        elif dy < dx_th and dy > -dx_th:\n",
    "            return 3, point[1]\n",
    "        else:\n",
    "            if l_x2 > pixel.y2:\n",
    "                return 0, line.x(pixel.y2)\n",
    "            else:\n",
    "                return 3, l_x2\n",
    "\n",
    "\n",
    "def area_pixel_below_poligon(pixel, line_in, point_in, line_out, point_out, inner_points):\n",
    "    \"\"\"\n",
    "    It compute the area within the pixel on the right of the broken line that starts from line_in,\n",
    "    connects all the inner_points and exit though line_out\n",
    "    \"\"\"\n",
    "    \n",
    "    def get_extreme_val(side_i):\n",
    "        if side_i == 0:\n",
    "            return pixel.x1\n",
    "        elif side_i == 1:\n",
    "            return pixel.y1\n",
    "        elif side_i == 2:\n",
    "            return pixel.x2\n",
    "        else:\n",
    "            return pixel.y2\n",
    "        \n",
    "    def get_height(side_i):\n",
    "        if side_i == 0:\n",
    "            return pixel.y2 - inner_points[0][1]\n",
    "        elif side_i == 1:\n",
    "            return inner_points[0][0] - pixel.x1\n",
    "        elif side_i == 2:\n",
    "            return inner_points[0][1] - pixel.y1\n",
    "        else:\n",
    "            return pixel.x2 - inner_points[0][0]\n",
    "        \n",
    "    def get_coords_on_border(side_i, coord):\n",
    "        if side_i == 0:\n",
    "            return np.array([coord, pixel.y2])\n",
    "        elif side_i == 1:\n",
    "            return np.array([pixel.x1, coord])\n",
    "        elif side_i == 2:\n",
    "            return np.array([coord, pixel.y1])\n",
    "        else:\n",
    "            return np.array([pixel.x2, coord])\n",
    "        \n",
    "    def remaining_area():\n",
    "        if len(inner_points) == 1:\n",
    "            return 0\n",
    "        elif len(inner_points) == 2:\n",
    "            point_border = get_coords_on_border(side_out, val_out)\n",
    "            return area_triangle(inner_points[0], inner_points[1], point_border)\n",
    "        elif len(inner_points) == 3:\n",
    "            point_border = get_coords_on_border(side_out, val_out)\n",
    "            return area_quadrilateral(inner_points[0], inner_points[1], inner_points[2], point_border)\n",
    "        else:\n",
    "            raise Exception('invalid inner_points length')\n",
    "        \n",
    "    #print('in', line_in.m, line_in.m_inv)\n",
    "    side_in, val_in = find_intersection(pixel, inner_points[0], point_in, line_in)\n",
    "    #print('out', line_out.m, line_out.m_inv)\n",
    "    side_out, val_out = find_intersection(pixel, inner_points[-1], point_out, line_out)\n",
    "    \n",
    "    if side_in == side_out:\n",
    "        area = abs(val_in - val_out) * get_height(side_in) * 0.5\n",
    "        return area + remaining_area()\n",
    "    else:\n",
    "        area = abs(get_extreme_val(side_in) - val_in) * get_height(side_in)\n",
    "        #print(get_extreme_val(side_in), get_height(side_in), area)\n",
    "        area += (1 - abs(get_extreme_val(side_out) - val_out)) * get_height(side_out)\n",
    "        #print(get_extreme_val(side_out), get_height(side_out), area)\n",
    "        \n",
    "        for _ in range(4):\n",
    "            side_in = (side_in + 1)%4\n",
    "            if side_in == side_out:\n",
    "                break\n",
    "            area += get_height(side_in)\n",
    "        #print(area)\n",
    "        \n",
    "        return area * 0.5 + remaining_area()"
   ]
  },
  {
   "cell_type": "code",
   "execution_count": 6,
   "metadata": {},
   "outputs": [],
   "source": [
    "def compute_lines(shape):\n",
    "    close_shape = np.row_stack((shape,shape[0]))\n",
    "    lines, orients = [], []\n",
    "    for i in range(len(close_shape)-1):\n",
    "        lines.append(Line(close_shape[i], close_shape[i+1]))\n",
    "        o = shape[(i+1)%len(shape)][0] >= shape[i][0]\n",
    "        if shape[(i+1)%len(shape)][0] == shape[i][0]:\n",
    "            o = shape[(i+1)%len(shape)][1] > shape[i][1]\n",
    "        orients.append(o)\n",
    "    return lines, orients\n",
    "\n",
    "\n",
    "def find_vert_unique(vert_pixels):\n",
    "    L = len(vert_pixels)\n",
    "    uniques, counts = [], []\n",
    "    for i in range(L):\n",
    "        v = vert_pixels[i]\n",
    "        found = False\n",
    "        for j in range(len(uniques)):\n",
    "            if vert_pixels[uniques[j]][0] == v[0] and vert_pixels[uniques[j]][1] == v[1]:\n",
    "                counts[j] += 1\n",
    "                found = True\n",
    "        if not found:\n",
    "            uniques.append(i)\n",
    "            counts.append(1)\n",
    "            \n",
    "    for i, u in enumerate(uniques):\n",
    "        if counts[i] > 1 and counts[i] < L:\n",
    "            for _ in range(L):\n",
    "                v = vert_pixels[u]\n",
    "                i_left = (u-1)%L\n",
    "                if vert_pixels[i_left][0] == v[0] and vert_pixels[i_left][1] == v[1]:\n",
    "                    uniques[i] = i_left\n",
    "                    u = i_left\n",
    "                else:\n",
    "                    break\n",
    "                \n",
    "    return uniques, counts\n",
    "\n",
    "\n",
    "def compute_vertex_shade(pixels, pixel_offset, shape, lines):\n",
    "    round_vert = [[round(p[0]), round(p[1])] for p in shape]\n",
    "    unique_vert_i, counts = find_vert_unique(round_vert)\n",
    "    #print(unique_vert_i, counts)\n",
    "    L = len(shape)\n",
    "    \n",
    "    # A shape all contained in a pixel should not happen, but in case, the pixel is set to 1 \n",
    "    if len(unique_vert_i) == 1:\n",
    "        p = shape[unique_vert_i[0]]\n",
    "        px = Pixel([p[0], p[1]])\n",
    "        pixels[px.y-pixel_offset[0], px.x-pixel_offset[1]] = 1 \n",
    "    else:\n",
    "        for i in range(len(unique_vert_i)):\n",
    "            p = shape[unique_vert_i[i]]\n",
    "            px = Pixel([p[0], p[1]])\n",
    "            p_in = shape[(unique_vert_i[i]-1)%L]\n",
    "            p_out = shape[(unique_vert_i[i]+counts[i])%L]\n",
    "            #print(px.x, px.y, p_in, p_out)\n",
    "            line_in, line_out = lines[(unique_vert_i[i]-1)%L], lines[(unique_vert_i[i]+counts[i]-1)%L]\n",
    "            points = shape[unique_vert_i[i]:unique_vert_i[i]+counts[i]]\n",
    "            if unique_vert_i[i]+counts[i] > L-1:\n",
    "                points = np.row_stack((points, shape[0:(unique_vert_i[i]+counts[i])%L]))\n",
    "            #print(points)\n",
    "            area = area_pixel_below_poligon(px, line_in, p_in, line_out, p_out, points)\n",
    "            #print(i, area)\n",
    "            pixels[px.y-pixel_offset[0], px.x-pixel_offset[1]] = area\n",
    "    return pixels\n",
    "            \n",
    "\n",
    "def compute_raycasts(shape, pixels, pixel_offset, lines):\n",
    "    ni, nj = pixels.shape\n",
    "    close_shape = np.row_stack((shape,shape[0]))\n",
    "    n_crossing_xrays, n_crossing_yrays = np.zeros((ni+1,nj+1)), np.zeros((ni+1,nj+1))\n",
    "    side_infox = [[[] for _ in range(nj+1)] for _ in range(ni+1)]\n",
    "    side_infoy = [[[] for _ in range(ni+1)] for _ in range(nj+1)]\n",
    "    \n",
    "    for k in range(len(shape)):\n",
    "        v1, v2 = close_shape[k], close_shape[k+1]\n",
    "        \n",
    "        max_pix_vert_y = int(np.ceil(max(v1[1], v2[1]) - 0.5) - pixel_offset[0])\n",
    "        min_pix_vert_y = int(np.ceil(min(v1[1], v2[1]) + 0.5) - pixel_offset[0])\n",
    "        max_pix_vert_x = int(np.ceil(max(v1[0], v2[0]) - 0.5) - pixel_offset[1])\n",
    "        min_pix_vert_x = int(np.ceil(min(v1[0], v2[0]) + 0.5) - pixel_offset[1])\n",
    "        #print(v1, v2, min_pix_vert_x, max_pix_vert_x, min_pix_vert_y, max_pix_vert_y)\n",
    "        \n",
    "        for pvi in range(min_pix_vert_y, max_pix_vert_y+1):\n",
    "            pvj = 0\n",
    "            for pvj in range(0, min_pix_vert_x):\n",
    "                n_crossing_xrays[pvi, pvj] += 1\n",
    "            for pvj in range(min_pix_vert_x, max_pix_vert_x+1):\n",
    "                xside = lines[k].x(pvi-0.5+pixel_offset[0])\n",
    "                if xside >= pvj-0.5+pixel_offset[1]:\n",
    "                    n_crossing_xrays[pvi, pvj] += 1\n",
    "                else:\n",
    "                    pvj -= 1\n",
    "                    break       \n",
    "            side_infox[pvi][pvj].append(k)\n",
    "        \n",
    "        for pvj in range(min_pix_vert_x, max_pix_vert_x+1):\n",
    "            pv1 = 0\n",
    "            for pvi in range(0, min_pix_vert_y):\n",
    "                n_crossing_yrays[pvi, pvj] += 1\n",
    "            for pvi in range(min_pix_vert_y, max_pix_vert_y+1):\n",
    "                yside = lines[k].y(pvj-0.5+pixel_offset[1])\n",
    "                if yside >= pvi-0.5+pixel_offset[0]:\n",
    "                    n_crossing_yrays[pvi, pvj] += 1\n",
    "                else:\n",
    "                    pvi -= 1\n",
    "                    break\n",
    "            side_infoy[pvj][pvi].append(k)\n",
    "            \n",
    "    return n_crossing_xrays, n_crossing_yrays, side_infox, side_infoy\n",
    "\n",
    "\n",
    "def apply_raycasting(shape, pixels, pixel_offset, lines, orients):\n",
    "    \n",
    "    n_crossing_xrays, n_crossing_yrays, side_infox, side_infoy = compute_raycasts(shape, pixels, pixel_offset, lines)   \n",
    "    #print(n_crossing_xrays)\n",
    "    #print(n_crossing_yrays[::-1])\n",
    "    #print(side_infox)\n",
    "    #print(side_infoy)\n",
    "    ni, nj = pixels.shape\n",
    "    for i in range(ni):\n",
    "        for j in range(nj):\n",
    "            \n",
    "            # Internal external check with raycasts\n",
    "            if n_crossing_xrays[i,j] == n_crossing_xrays[i,j+1] and n_crossing_xrays[i+1,j] == n_crossing_xrays[i+1,j+1] and \\\n",
    "               n_crossing_yrays[i,j] == n_crossing_yrays[i+1,j] and n_crossing_yrays[i,j+1] == n_crossing_yrays[i+1,j+1]:\n",
    "                #print(i, j, 'raycast')\n",
    "                if n_crossing_xrays[i,j]%2 == 0:\n",
    "                    pixels[i,j] = 0\n",
    "                else:\n",
    "                    pixels[i,j] = 1\n",
    "            \n",
    "            else:\n",
    "                if pixels[i,j] != -1:\n",
    "                    continue\n",
    "                    \n",
    "                sides = set()\n",
    "                for s in side_infox[i][j]: sides.add(s)\n",
    "                for s in side_infox[i+1][j]: sides.add(s)\n",
    "                for s in side_infoy[j][i]: sides.add(s)\n",
    "                for s in side_infoy[j+1][i]: sides.add(s)\n",
    "                    \n",
    "                a = 0\n",
    "                #print(i,j,'sides', sides)\n",
    "                for s in sides:\n",
    "                    px = Pixel([j+pixel_offset[1], i+pixel_offset[0]])\n",
    "                    a += area_pixel_below_line(px, lines[s], orients[s])\n",
    "                pixels[i,j] = a - len(sides) + 1\n",
    "            #print(i,j,pixels[i,j])\n",
    "    return pixels\n",
    "                    \n",
    "                    \n",
    "def antialiase_shape(shape):\n",
    "    \n",
    "    ni = round(max(shape[:,1]))-round(min(shape[:,1]))+1\n",
    "    nj = round(max(shape[:,0]))-round(min(shape[:,0]))+1\n",
    "    pixels = -np.ones((ni, nj))\n",
    "    pixel_offset = round(min(shape[:,1])), round(min(shape[:,0]))\n",
    "    lines, orients = compute_lines(shape)\n",
    "      \n",
    "    pixels = compute_vertex_shade(pixels, pixel_offset, shape, lines)\n",
    "    return apply_raycasting(shape, pixels, pixel_offset, lines, orients), pixel_offset\n",
    "    #return pixels, pixel_offset"
   ]
  },
  {
   "cell_type": "code",
   "execution_count": 7,
   "metadata": {},
   "outputs": [],
   "source": [
    "#shape = np.array(np.array([[31.75, 56.91], [31.29, 59.80], [40.8, 61.99], [40, 61.01]]))\n",
    "#shape = np.array([[0.2,0.3], [1.2,3.2], [5,3.7], [3.2,1]])\n",
    "shape = np.array([(50.9, 26.0), (48.1, 33.0), (59.6, 44.0), (64.4, 39.0)])\n",
    "pixels, pixel_offset = antialiase_shape(shape)"
   ]
  },
  {
   "cell_type": "code",
   "execution_count": 8,
   "metadata": {},
   "outputs": [
    {
     "data": {
      "text/plain": [
       "<matplotlib.image.AxesImage at 0x28328d2ceb0>"
      ]
     },
     "execution_count": 8,
     "metadata": {},
     "output_type": "execute_result"
    },
    {
     "data": {
      "image/png": "[encoded data removed]",
      "text/plain": [
       "<Figure size 432x288 with 1 Axes>"
      ]
     },
     "metadata": {
      "needs_background": "light"
     },
     "output_type": "display_data"
    }
   ],
   "source": [
    "close_shape = np.row_stack((shape,shape[0]))\n",
    "plt.plot(close_shape[:,0], close_shape[:,1], c='r')\n",
    "\n",
    "x1, x2 = pixel_offset[1]-0.5, pixel_offset[1]+len(pixels[0])-0.5\n",
    "y1, y2 = pixel_offset[0]-0.5, pixel_offset[0]+len(pixels)-0.5\n",
    "plt.imshow(pixels, cmap='binary', origin='lower', vmin=0, vmax=1, extent=(x1, x2, y1, y2))"
   ]
  },
  {
   "cell_type": "code",
   "execution_count": null,
   "metadata": {},
   "outputs": [],
   "source": [
    "(92.7, 66.1) (59.6, 44.0) (56.3, 40.9) (64.4, 39.0)"
   ]
  },
  {
   "cell_type": "code",
   "execution_count": 10,
   "metadata": {},
   "outputs": [
    {
     "data": {
      "text/plain": [
       "<matplotlib.image.AxesImage at 0x2832910e7f0>"
      ]
     },
     "execution_count": 10,
     "metadata": {},
     "output_type": "execute_result"
    },
    {
     "data": {
      "image/png": "[encoded data removed]",
      "text/plain": [
       "<Figure size 432x288 with 1 Axes>"
      ]
     },
     "metadata": {
      "needs_background": "light"
     },
     "output_type": "display_data"
    }
   ],
   "source": [
    "shape = np.array([(92.7, 66.1), (64.4, 39.0), (56.3, 40.9), (59.6, 44.0)])\n",
    "pixels, pixel_offset = antialiase_shape(shape)\n",
    "close_shape = np.row_stack((shape,shape[0]))\n",
    "plt.plot(close_shape[:,0], close_shape[:,1], c='r')\n",
    "\n",
    "x1, x2 = pixel_offset[1]-0.5, pixel_offset[1]+len(pixels[0])-0.5\n",
    "y1, y2 = pixel_offset[0]-0.5, pixel_offset[0]+len(pixels)-0.5\n",
    "plt.imshow(pixels, cmap='binary', origin='lower', vmin=0, vmax=1, extent=(x1, x2, y1, y2))"
   ]
  },
  {
   "cell_type": "code",
   "execution_count": 22,
   "metadata": {},
   "outputs": [
    {
     "data": {
      "text/plain": [
       "(-1.0, 0.0)"
      ]
     },
     "execution_count": 22,
     "metadata": {},
     "output_type": "execute_result"
    }
   ],
   "source": [
    "x = -0.5\n",
    "np.ceil(x - 0.5), np.ceil(x + 0.5)"
   ]
  },
  {
   "cell_type": "code",
   "execution_count": 23,
   "metadata": {},
   "outputs": [],
   "source": [
    "quads = [np.array([[0.2,0.3], [1.2,3.2], [5,3.7], [3.2,1]])]\n",
    "quads.append(np.array([[2,3.6], [1.6,4], [2,4.4], [2.4,4]]))\n",
    "quads.append(np.array([[2.9,3.3], [1,6.7], [6,5.2], [4.2,3.8]]))\n",
    "quads.append(np.array([[0.25,0.25], [0.25,2.4], [2.25,2.4], [2.25,0.25]]))\n",
    "quads.append(np.array([[1,6], [3,9], [7,6], [4,2]]))\n",
    "quads.append(np.array([[0.6, 4], [1.4,4.1], [3.4,0.4], [2.6,-0.4]]))\n",
    "quads.append(np.array([[0,-0.4], [0,0.4], [2,0.4], [2,-0.4]]))\n",
    "quads.append(np.array([[-0.4,-0.4], [-0.4,0.45], [2,0.4], [0.45,-0.3]]))\n",
    "quads.append(np.array([[0,-0.4], [-0.4,0.45], [2,2], [0.45,-0.3]]))\n",
    "quads.append(np.array([[31.75, 58.91], [31.29, 59.80],\n",
    "                       [40.8, 61.99], [40, 61.01]]))"
   ]
  },
  {
   "cell_type": "code",
   "execution_count": 24,
   "metadata": {},
   "outputs": [
    {
     "name": "stdout",
     "output_type": "stream",
     "text": [
      "Wall time: 9.95 ms\n"
     ]
    }
   ],
   "source": [
    "def run():\n",
    "    for _ in range(1):\n",
    "        pixels = []\n",
    "        offsets = []\n",
    "        for q in quads:\n",
    "            p, o = antialiase_shape(q)\n",
    "            pixels.append(p)\n",
    "            offsets.append(o)\n",
    "    return pixels, offsets\n",
    "\n",
    "%time pixels, offsets = run()"
   ]
  },
  {
   "cell_type": "code",
   "execution_count": 25,
   "metadata": {},
   "outputs": [
    {
     "data": {
      "image/png": "[encoded data removed]",
      "text/plain": [
       "<Figure size 864x1008 with 12 Axes>"
      ]
     },
     "metadata": {
      "needs_background": "light"
     },
     "output_type": "display_data"
    }
   ],
   "source": [
    "n_rows = int(len(quads)/3)+1\n",
    "fig, axs = plt.subplots(n_rows, 3, figsize=(12,n_rows*3.5))\n",
    "\n",
    "count=0\n",
    "for k in range(len(quads)):\n",
    "    i,j = k%3, int(k/3)\n",
    "    d = pixels[k].sum()-area_quadrilateral(quads[k][0],quads[k][1],quads[k][2],quads[k][3])\n",
    "    axs[j][i].set_title('Area diff %5.4f'%d)\n",
    "    for l in range(4):\n",
    "        axs[j][i].plot([quads[k][l,0], quads[k][(l+1)%4,0]], [quads[k][l,1], quads[k][(l+1)%4,1]], c='r')\n",
    "\n",
    "    axs[j][i].imshow(pixels[k], cmap='binary', origin='lower', vmin=0, vmax=1,\n",
    "               extent=(offsets[k][1]-0.5, offsets[k][1]+len(pixels[k][0])-0.5, offsets[k][0]-0.5, offsets[k][0]+len(pixels[k])-0.5))"
   ]
  },
  {
   "cell_type": "code",
   "execution_count": 19,
   "metadata": {},
   "outputs": [],
   "source": [
    "def circle(center, radius, t1=0, t2=2*np.pi, steps=1000):\n",
    "    thetas = np.linspace(t1, t2, steps+1)[:-1][::-1]\n",
    "    return (np.array([[np.cos(t), np.sin(t)] for t in thetas])*radius + np.array(center)).T"
   ]
  },
  {
   "cell_type": "code",
   "execution_count": 20,
   "metadata": {},
   "outputs": [],
   "source": [
    "c = circle([0,0], 2, steps=20).T\n",
    "p, o = antialiase_shape(c)"
   ]
  },
  {
   "cell_type": "code",
   "execution_count": 21,
   "metadata": {},
   "outputs": [
    {
     "data": {
      "text/plain": [
       "<matplotlib.image.AxesImage at 0x282212c1580>"
      ]
     },
     "execution_count": 21,
     "metadata": {},
     "output_type": "execute_result"
    },
    {
     "data": {
      "image/png": "[encoded data removed]",
      "text/plain": [
       "<Figure size 432x288 with 1 Axes>"
      ]
     },
     "metadata": {
      "needs_background": "light"
     },
     "output_type": "display_data"
    }
   ],
   "source": [
    "plt.plot(c[:,0],c[:,1], c='r')\n",
    "plt.imshow(p, cmap='binary', origin='lower', vmin=0, vmax=1, extent=(o[1]-0.5, o[1]+len(p[0])-0.5, o[0]-0.5, o[0]+len(p)-0.5))"
   ]
  },
  {
   "cell_type": "code",
   "execution_count": null,
   "metadata": {},
   "outputs": [],
   "source": []
  }
 ],
 "metadata": {
  "kernelspec": {
   "display_name": "Python 3",
   "language": "python",
   "name": "python3"
  },
  "language_info": {
   "codemirror_mode": {
    "name": "ipython",
    "version": 3
   },
   "file_extension": ".py",
   "mimetype": "text/x-python",
   "name": "python",
   "nbconvert_exporter": "python",
   "pygments_lexer": "ipython3",
   "version": "3.8.5"
  }
 },
 "nbformat": 4,
 "nbformat_minor": 4
}
