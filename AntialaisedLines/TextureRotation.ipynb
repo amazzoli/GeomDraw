{
 "cells": [
  {
   "cell_type": "code",
   "execution_count": 1,
   "metadata": {},
   "outputs": [],
   "source": [
    "import numpy as np\n",
    "import matplotlib.pyplot as plt"
   ]
  },
  {
   "cell_type": "code",
   "execution_count": 2,
   "metadata": {},
   "outputs": [],
   "source": [
    "def rotation(p, c, cost, sint):\n",
    "    deltax = (p[0] - c[0])\n",
    "    deltay = (p[1] - c[1])\n",
    "    return cost * deltax - sint * deltay + c[0], sint * deltax + cost * deltay + c[1]\n",
    "\n",
    "def makeCardinals(rotAngle):\n",
    "    if (rotAngle + 2 * np.pi) % (2 * np.pi) < np.pi / 2.0:\n",
    "        return {'south' : 0, 'west' : 1, 'north' : 2, 'east' : 3}\n",
    "    elif (rotAngle + 2 * np.pi) % (2 * np.pi) < np.pi:\n",
    "        return {'south' : 1, 'west' : 2, 'north' : 3, 'east' : 0}\n",
    "    elif (rotAngle + 2 * np.pi) % (2 * np.pi) < 3 * np.pi / 2.0:\n",
    "        return {'south' : 2, 'west' : 3, 'north' : 0, 'east' : 1}\n",
    "    else:\n",
    "        return {'south' : 3, 'west' : 0, 'north' : 1, 'east' : 2}"
   ]
  },
  {
   "cell_type": "code",
   "execution_count": 13,
   "metadata": {},
   "outputs": [],
   "source": [
    "nPxX = 50\n",
    "nPxY = 70\n",
    "norm = np.zeros(nPxX * nPxY)\n",
    "rotCenter = [25, 35]\n",
    "rotAngle = np.pi / 6.0\n",
    "cosRot = np.cos(rotAngle)\n",
    "sinRot = np.sin(rotAngle)"
   ]
  },
  {
   "cell_type": "code",
   "execution_count": 14,
   "metadata": {},
   "outputs": [
    {
     "data": {
      "text/plain": [
       "<matplotlib.collections.PathCollection at 0x23091527f40>"
      ]
     },
     "execution_count": 14,
     "metadata": {},
     "output_type": "execute_result"
    },
    {
     "data": {
      "image/png": "[encoded data removed]",
      "text/plain": [
       "<Figure size 432x288 with 1 Axes>"
      ]
     },
     "metadata": {
      "needs_background": "light"
     },
     "output_type": "display_data"
    }
   ],
   "source": [
    "points = np.array([[0, 0, nPxX, nPxX, 0], [0, nPxY, nPxY, 0, 0]]).T\n",
    "rotPoints = np.array([rotation(p, rotCenter, cosRot, sinRot) for p in points])\n",
    "\n",
    "plt.plot(points[:,0], points[:,1])\n",
    "plt.plot(rotPoints[:,0], rotPoints[:,1])\n",
    "plt.scatter(rotCenter[0], rotCenter[1])"
   ]
  },
  {
   "cell_type": "code",
   "execution_count": 15,
   "metadata": {},
   "outputs": [
    {
     "data": {
      "text/plain": [
       "array([[ 20.84936491,  -7.81088913],\n",
       "       [-14.15063509,  52.81088913],\n",
       "       [ 29.15063509,  77.81088913],\n",
       "       [ 64.15063509,  17.18911087],\n",
       "       [ 20.84936491,  -7.81088913]])"
      ]
     },
     "execution_count": 15,
     "metadata": {},
     "output_type": "execute_result"
    }
   ],
   "source": [
    "rotPoints"
   ]
  },
  {
   "cell_type": "code",
   "execution_count": 8,
   "metadata": {},
   "outputs": [
    {
     "data": {
      "text/plain": [
       "<matplotlib.image.AxesImage at 0x23091400dc0>"
      ]
     },
     "execution_count": 8,
     "metadata": {},
     "output_type": "execute_result"
    },
    {
     "data": {
      "image/png": "[encoded data removed]",
      "text/plain": [
       "<Figure size 432x288 with 1 Axes>"
      ]
     },
     "metadata": {
      "needs_background": "light"
     },
     "output_type": "display_data"
    }
   ],
   "source": [
    "colors = np.ones((nPxY, nPxX)) * np.linspace(0.99,1,nPxX)[np.newaxis,:]\n",
    "plt.imshow(colors, cmap='Greys', vmin=0, vmax=1)"
   ]
  },
  {
   "cell_type": "code",
   "execution_count": 16,
   "metadata": {},
   "outputs": [
    {
     "name": "stdout",
     "output_type": "stream",
     "text": [
      "[-14.15063509  -7.81088913] 80 87\n"
     ]
    }
   ],
   "source": [
    "cardinals = makeCardinals(rotAngle)\n",
    "newOrigin = np.array([rotPoints[cardinals['west']][0], rotPoints[cardinals['south']][1]])\n",
    "newNPxX = int(np.ceil(rotPoints[cardinals['east']][0] - rotPoints[cardinals['west']][0])) + 1\n",
    "newNPxY = int(np.ceil(rotPoints[cardinals['north']][1] - rotPoints[cardinals['south']][1])) + 1\n",
    "print(newOrigin, newNPxX, newNPxY)"
   ]
  },
  {
   "cell_type": "code",
   "execution_count": 19,
   "metadata": {},
   "outputs": [
    {
     "data": {
      "text/plain": [
       "array([-14.15063509,  -7.81088913])"
      ]
     },
     "execution_count": 19,
     "metadata": {},
     "output_type": "execute_result"
    }
   ],
   "source": [
    "newOrigin"
   ]
  },
  {
   "cell_type": "code",
   "execution_count": 18,
   "metadata": {},
   "outputs": [
    {
     "name": "stdout",
     "output_type": "stream",
     "text": [
      "0.31698729810779014 0.8169872981077804 34 0\n",
      "0.31698729810779014 0.18301270189221963 34 1\n",
      "0.6830127018922099 0.18301270189221963 35 1\n",
      "0.6830127018922099 0.8169872981077804 35 0\n",
      "\n",
      "0.4509618943233562 0.31698729810778037 35 0\n",
      "0.4509618943233562 0.6830127018922196 35 1\n",
      "0.5490381056766438 0.6830127018922196 36 1\n",
      "0.5490381056766438 0.31698729810778037 36 0\n",
      "\n",
      "0.5849364905389152 0.8169872981077804 36 1\n",
      "0.5849364905389152 0.18301270189221963 36 2\n",
      "0.41506350946108483 0.18301270189221963 37 2\n",
      "0.41506350946108483 0.8169872981077804 37 1\n",
      "\n",
      "0.7189110867544741 0.31698729810778037 37 1\n",
      "0.7189110867544741 0.6830127018922196 37 2\n",
      "0.2810889132455259 0.6830127018922196 38 2\n",
      "0.2810889132455259 0.31698729810778037 38 1\n",
      "\n",
      "0.8528856829700402 0.8169872981077804 38 2\n"
     ]
    },
    {
     "ename": "IndexError",
     "evalue": "index 4 is out of bounds for axis 1 with size 4",
     "output_type": "error",
     "traceback": [
      "\u001b[1;31m---------------------------------------------------------------------------\u001b[0m",
      "\u001b[1;31mIndexError\u001b[0m                                Traceback (most recent call last)",
      "\u001b[1;32m<ipython-input-18-04702b5685c7>\u001b[0m in \u001b[0;36m<module>\u001b[1;34m\u001b[0m\n\u001b[0;32m     12\u001b[0m         \u001b[0mnewJ\u001b[0m\u001b[1;33m,\u001b[0m \u001b[0mnewI\u001b[0m \u001b[1;33m=\u001b[0m \u001b[0mint\u001b[0m\u001b[1;33m(\u001b[0m\u001b[0mp\u001b[0m\u001b[1;33m[\u001b[0m\u001b[1;36m0\u001b[0m\u001b[1;33m]\u001b[0m\u001b[1;33m)\u001b[0m\u001b[1;33m,\u001b[0m \u001b[0mint\u001b[0m\u001b[1;33m(\u001b[0m\u001b[0mp\u001b[0m\u001b[1;33m[\u001b[0m\u001b[1;36m1\u001b[0m\u001b[1;33m]\u001b[0m\u001b[1;33m)\u001b[0m\u001b[1;33m\u001b[0m\u001b[1;33m\u001b[0m\u001b[0m\n\u001b[0;32m     13\u001b[0m         \u001b[0mprint\u001b[0m\u001b[1;33m(\u001b[0m\u001b[1;33m(\u001b[0m\u001b[0mnewJ\u001b[0m \u001b[1;33m+\u001b[0m \u001b[1;36m1\u001b[0m \u001b[1;33m-\u001b[0m \u001b[0mp\u001b[0m\u001b[1;33m[\u001b[0m\u001b[1;36m0\u001b[0m\u001b[1;33m]\u001b[0m\u001b[1;33m)\u001b[0m\u001b[1;33m,\u001b[0m\u001b[1;33m(\u001b[0m\u001b[0mnewI\u001b[0m \u001b[1;33m+\u001b[0m \u001b[1;36m1\u001b[0m \u001b[1;33m-\u001b[0m \u001b[0mp\u001b[0m\u001b[1;33m[\u001b[0m\u001b[1;36m1\u001b[0m\u001b[1;33m]\u001b[0m\u001b[1;33m)\u001b[0m\u001b[1;33m,\u001b[0m \u001b[0mnewJ\u001b[0m\u001b[1;33m,\u001b[0m \u001b[0mnewI\u001b[0m\u001b[1;33m)\u001b[0m\u001b[1;33m\u001b[0m\u001b[1;33m\u001b[0m\u001b[0m\n\u001b[1;32m---> 14\u001b[1;33m         \u001b[0mnewColors\u001b[0m\u001b[1;33m[\u001b[0m\u001b[0mnewI\u001b[0m\u001b[1;33m,\u001b[0m \u001b[0mnewJ\u001b[0m\u001b[1;33m]\u001b[0m \u001b[1;33m+=\u001b[0m \u001b[0mcolors\u001b[0m\u001b[1;33m[\u001b[0m\u001b[0mi\u001b[0m\u001b[1;33m,\u001b[0m \u001b[0mj\u001b[0m\u001b[1;33m]\u001b[0m \u001b[1;33m*\u001b[0m \u001b[1;33m(\u001b[0m\u001b[0mnewJ\u001b[0m \u001b[1;33m+\u001b[0m \u001b[1;36m1\u001b[0m \u001b[1;33m-\u001b[0m \u001b[0mp\u001b[0m\u001b[1;33m[\u001b[0m\u001b[1;36m0\u001b[0m\u001b[1;33m]\u001b[0m\u001b[1;33m)\u001b[0m \u001b[1;33m*\u001b[0m \u001b[1;33m(\u001b[0m\u001b[0mnewI\u001b[0m \u001b[1;33m+\u001b[0m \u001b[1;36m1\u001b[0m \u001b[1;33m-\u001b[0m \u001b[0mp\u001b[0m\u001b[1;33m[\u001b[0m\u001b[1;36m1\u001b[0m\u001b[1;33m]\u001b[0m\u001b[1;33m)\u001b[0m\u001b[1;33m\u001b[0m\u001b[1;33m\u001b[0m\u001b[0m\n\u001b[0m\u001b[0;32m     15\u001b[0m \u001b[1;33m\u001b[0m\u001b[0m\n\u001b[0;32m     16\u001b[0m         \u001b[0mp\u001b[0m \u001b[1;33m=\u001b[0m \u001b[1;33m(\u001b[0m\u001b[0mcenter\u001b[0m \u001b[1;33m+\u001b[0m \u001b[0mvec1\u001b[0m\u001b[1;33m)\u001b[0m\u001b[1;33m\u001b[0m\u001b[1;33m\u001b[0m\u001b[0m\n",
      "\u001b[1;31mIndexError\u001b[0m: index 4 is out of bounds for axis 1 with size 4"
     ]
    }
   ],
   "source": [
    "newColors = np.zeros((newNPxY, newNPxX))\n",
    "\n",
    "cornersList = []\n",
    "versorX, versorY = np.array([cosRot, sinRot]), np.array([-sinRot, cosRot])\n",
    "vec0, vec1, vec2, vec3 = np.array([-0.5, -0.5]), np.array([-0.5, 0.5]), np.array([0.5, 0.5]), np.array([0.5, -0.5])\n",
    "for i in range(nPxY):\n",
    "    for j in range(nPxX):\n",
    "        center = rotPoints[0] + (j + 0.5) * versorX + (i + 0.5) * versorY - newOrigin\n",
    "        cornersList.append(np.array([center + vec0, center + vec1, center + vec2, center + vec3]) + newOrigin)\n",
    "        \n",
    "        p = (center + vec0) \n",
    "        newJ, newI = int(p[0]), int(p[1])\n",
    "        print((newJ + 1 - p[0]),(newI + 1 - p[1]), newJ, newI)\n",
    "        newColors[newI, newJ] += colors[i, j] * (newJ + 1 - p[0]) * (newI + 1 - p[1])\n",
    "\n",
    "        p = (center + vec1) \n",
    "        newJ, newI = int(p[0]), int(p[1])\n",
    "        print(newJ + 1 - p[0], p[1] - newI, newJ, newI)\n",
    "        newColors[newI, newJ] += colors[i, j] * (newJ + 1 - p[0]) * (p[1] - newI)\n",
    "        \n",
    "        p = (center + vec2) \n",
    "        newJ, newI = int(p[0]), int(p[1])\n",
    "        print( p[0] - newJ, p[1] - newI, newJ, newI)\n",
    "        newColors[newI, newJ] += colors[i, j] * (p[0] - newJ) * (p[1] - newI)\n",
    "        \n",
    "        p = (center + vec3) \n",
    "        newJ, newI = int(p[0]), int(p[1])\n",
    "        print(p[0] - newJ, newI + 1 - p[1], newJ, newI)\n",
    "        newColors[newI, newJ] += colors[i, j] * (p[0] - newJ) * (newI + 1 - p[1])\n",
    "        \n",
    "        print()\n",
    "        \n",
    "cornersList = np.array(cornersList).reshape((int(len(cornersList) * len(cornersList[0])),2))"
   ]
  },
  {
   "cell_type": "code",
   "execution_count": 211,
   "metadata": {},
   "outputs": [
    {
     "data": {
      "text/plain": [
       "0.0"
      ]
     },
     "execution_count": 211,
     "metadata": {},
     "output_type": "execute_result"
    }
   ],
   "source": [
    "newColors[0, 1]"
   ]
  },
  {
   "cell_type": "code",
   "execution_count": 212,
   "metadata": {},
   "outputs": [
    {
     "data": {
      "text/plain": [
       "[<matplotlib.lines.Line2D at 0x20b6f1c1820>]"
      ]
     },
     "execution_count": 212,
     "metadata": {},
     "output_type": "execute_result"
    },
    {
     "data": {
      "image/png": "[encoded data removed]",
      "text/plain": [
       "<Figure size 432x288 with 1 Axes>"
      ]
     },
     "metadata": {
      "needs_background": "light"
     },
     "output_type": "display_data"
    }
   ],
   "source": [
    "\n",
    "plt.xlim([newOrigin[0], newOrigin[0] + newNPxX])\n",
    "plt.ylim([newOrigin[1], newOrigin[1] + newNPxY])\n",
    "plt.xticks(np.arange(newNPxX+1) + newOrigin[0])\n",
    "plt.yticks(np.arange(newNPxY+1) + newOrigin[1])\n",
    "\n",
    "plt.plot(points[:,0], points[:,1])\n",
    "plt.plot(rotPoints[:,0], rotPoints[:,1])\n",
    "#plt.scatter(newPxCenters[:,0], newPxCenters[:,1])\n",
    "plt.plot(cornersList[:,0], cornersList[:,1])"
   ]
  },
  {
   "cell_type": "code",
   "execution_count": 213,
   "metadata": {},
   "outputs": [
    {
     "data": {
      "text/plain": [
       "<matplotlib.image.AxesImage at 0x20b6f2063a0>"
      ]
     },
     "execution_count": 213,
     "metadata": {},
     "output_type": "execute_result"
    },
    {
     "data": {
      "image/png": "[encoded data removed]",
      "text/plain": [
       "<Figure size 432x288 with 1 Axes>"
      ]
     },
     "metadata": {
      "needs_background": "light"
     },
     "output_type": "display_data"
    }
   ],
   "source": [
    "plt.imshow(newColors[::-1], cmap='Greys', vmin=0, vmax=1)"
   ]
  },
  {
   "cell_type": "code",
   "execution_count": 146,
   "metadata": {},
   "outputs": [
    {
     "data": {
      "text/plain": [
       "8.79296635503124e-16"
      ]
     },
     "execution_count": 146,
     "metadata": {},
     "output_type": "execute_result"
    }
   ],
   "source": [
    "newColors[0,1]"
   ]
  },
  {
   "cell_type": "code",
   "execution_count": null,
   "metadata": {},
   "outputs": [],
   "source": []
  }
 ],
 "metadata": {
  "kernelspec": {
   "display_name": "Python 3",
   "language": "python",
   "name": "python3"
  },
  "language_info": {
   "codemirror_mode": {
    "name": "ipython",
    "version": 3
   },
   "file_extension": ".py",
   "mimetype": "text/x-python",
   "name": "python",
   "nbconvert_exporter": "python",
   "pygments_lexer": "ipython3",
   "version": "3.8.5"
  }
 },
 "nbformat": 4,
 "nbformat_minor": 4
}
