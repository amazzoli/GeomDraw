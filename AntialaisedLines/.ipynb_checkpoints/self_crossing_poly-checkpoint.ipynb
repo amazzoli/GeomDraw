{
 "cells": [
  {
   "cell_type": "code",
   "execution_count": 1,
   "metadata": {},
   "outputs": [],
   "source": [
    "import numpy as np\n",
    "import matplotlib.pyplot as plt\n",
    "from scipy.linalg import norm"
   ]
  },
  {
   "cell_type": "code",
   "execution_count": 2,
   "metadata": {},
   "outputs": [],
   "source": [
    "class Line:\n",
    "    \n",
    "    def __init__(self, p1, p2):\n",
    "        \"\"\"\n",
    "        Line that passes between two points. Also the angular coef and intercept\n",
    "        of the inverse line are computed at creation.\n",
    "        \"\"\"\n",
    "        if p2[0] - p1[0] != 0:\n",
    "            self.m = (p2[1] - p1[1]) / (p2[0] - p1[0])\n",
    "            self.b = p1[1] - self.m * p1[0]\n",
    "        else:\n",
    "            self.m = None\n",
    "            self.b = None\n",
    "\n",
    "        if self.m == None:\n",
    "            self.m_inv = 0\n",
    "            self.b_inv = p1[0]\n",
    "        elif self.m != 0:\n",
    "            self.m_inv = 1/self.m\n",
    "            self.b_inv = -self.b/self.m\n",
    "        else:\n",
    "            self.m_inv = None\n",
    "            self.b_inv = None      \n",
    "            \n",
    "    def y(self, x):\n",
    "        \"\"\"Position along the line at given x\"\"\"\n",
    "        if self.m != None:\n",
    "            return self.m * x + self.b \n",
    "        else:\n",
    "            return None\n",
    "    \n",
    "    def x(self, y):\n",
    "        \"\"\"Position along the inverse line at given y\"\"\"\n",
    "        if self.m_inv != None:\n",
    "            return self.m_inv * y + self.b_inv \n",
    "        else:\n",
    "            return None"
   ]
  },
  {
   "cell_type": "code",
   "execution_count": 3,
   "metadata": {},
   "outputs": [],
   "source": [
    "def compute_intersection_y(x, segm, shape):\n",
    "    \n",
    "    L = len(shape)\n",
    "    x1, y1 = shape[segm][0], shape[segm][1]\n",
    "    x2, y2 = shape[(segm+1)%L][0], shape[(segm+1)%L][1]\n",
    "    \n",
    "    if x >= x1 and x <= x2:\n",
    "        return (y2 - y1)/(x2 - x1)*(x - x1) + y1\n",
    "    elif x >= x2 and x <= x1:\n",
    "        return (y2 - y1)/(x2 - x1)*(x - x2) + y2\n",
    "    else:\n",
    "        print('inters error')\n",
    "        return -1"
   ]
  },
  {
   "cell_type": "code",
   "execution_count": 4,
   "metadata": {},
   "outputs": [],
   "source": [
    "def find_intersecting_sements(shape):\n",
    "    sorted_vert_x = np.argsort(shape[:,0])\n",
    "    L = len(shape)\n",
    "    vertical_inters_y = np.array([])\n",
    "    vertical_inters_segments = np.array([], dtype=int)\n",
    "    intersections = []\n",
    "\n",
    "    for vi in sorted_vert_x:\n",
    "\n",
    "        #print(vi, vertical_inters_y)\n",
    "        vx, vy = shape[vi]\n",
    "        vx_next, vy_next = shape[(vi+1)%L]\n",
    "        vx_prev, vy_prev = shape[(vi-1)%L]\n",
    "\n",
    "        # Compute intersection at new x\n",
    "        #new_vertical_inters_y = np.zeros(len(vertical_inters_y))\n",
    "        for i in range(len(vertical_inters_y)):\n",
    "            vertical_inters_y[i] = compute_intersection_y(vx, vertical_inters_segments[i], shape)\n",
    "\n",
    "        #print(vertical_inters_y)\n",
    "        # Check if the order is scrambled -> intersection\n",
    "        for i in range(len(vertical_inters_y)-1):\n",
    "            for j in range(i+1, len(vertical_inters_y)):\n",
    "                if vertical_inters_y[i] > vertical_inters_y[j]:\n",
    "                    #print(\"Intersection\", vertical_inters_segments[i], vertical_inters_segments[j])\n",
    "                    intersections.append([vertical_inters_segments[i], vertical_inters_segments[j]])\n",
    "\n",
    "        # Reordering\n",
    "        new_ordering = np.argsort(vertical_inters_y)\n",
    "        vertical_inters_segments = vertical_inters_segments[new_ordering]\n",
    "        vertical_inters_y = vertical_inters_y[new_ordering]\n",
    "\n",
    "        # Update segments after the vertex\n",
    "        if vx_next > vx and vx_prev > vx:\n",
    "            m_prev = (vy_prev - vy) / (vx_prev - vx)\n",
    "            m_next = (vy_next - vy) / (vx_next - vx)\n",
    "            if m_next > m_prev:\n",
    "                new_segms = [(vi-1)%L, vi]\n",
    "            elif m_next < m_prev:\n",
    "                new_segms = [vi, (vi-1)%L]\n",
    "            else:\n",
    "                print('Error, overlapping segments')\n",
    "\n",
    "            new_vert_i = np.sum(vertical_inters_y < vy)\n",
    "            vertical_inters_segments = np.insert(vertical_inters_segments, new_vert_i, new_segms)\n",
    "            vertical_inters_y = np.insert(vertical_inters_y, new_vert_i, np.array([vy, vy]))\n",
    "\n",
    "        elif vx_next < vx and vx_prev < vx:\n",
    "\n",
    "            coming_segm_1i = list(vertical_inters_segments).index((vi-1)%L)\n",
    "            coming_segm_2i = list(vertical_inters_segments).index(vi)\n",
    "            vertical_inters_segments = np.delete(vertical_inters_segments, [coming_segm_1i, coming_segm_2i])\n",
    "            vertical_inters_y = np.delete(vertical_inters_y, [coming_segm_1i, coming_segm_2i])\n",
    "\n",
    "        else:\n",
    "\n",
    "            if vx_prev < vx:\n",
    "                coming_segm_i = list(vertical_inters_segments).index((vi-1)%L)\n",
    "                vertical_inters_segments[coming_segm_i] = vi\n",
    "\n",
    "            elif vx_next < vx:\n",
    "                coming_segm_i = list(vertical_inters_segments).index(vi)\n",
    "                vertical_inters_segments[coming_segm_i] = (vi-1)%L\n",
    "\n",
    "            else:\n",
    "                print('vertical segment')\n",
    "                \n",
    "    return intersections\n",
    "\n",
    "def compute_intersection_points(shape, intersections):\n",
    "    L = len(shape)\n",
    "    inters_points = []\n",
    "    for p in intersections:\n",
    "        l1 = Line(shape[p[0]], shape[(p[0]+1)%L])\n",
    "        l2 = Line(shape[p[1]], shape[(p[1]+1)%L])\n",
    "        if l1.m == l2.m:\n",
    "            print(\"??\")\n",
    "            break\n",
    "        x = (l1.b - l2.b) / (l2.m - l1.m)\n",
    "        y = l1.m * x + l1.b\n",
    "        inters_points.append([x,y])\n",
    "\n",
    "    inters_points = np.array(inters_points)\n",
    "    return inters_points"
   ]
  },
  {
   "cell_type": "code",
   "execution_count": 5,
   "metadata": {},
   "outputs": [],
   "source": [
    "shape1 = np.array([(50.9, 26.0), (48.1, 33.0), (64.4, 39.0)])\n",
    "shape2 = np.array([(50.9, 36.0), (48.1, 33.0), (75, 42.0), (45, 56.0), (44, 50), (65, 50), (66, 30)])\n",
    "shape3 = np.array([(0,2), (1,-2), (-2,1), (2,1), (-1,-2)])\n",
    "shape4 = np.array([(0,2), (1,-2), (0,0), (2,1), (-1,-2)])\n",
    "shape5 = np.array([(0,2), (0.9,5.5), (6.5,0), (5.5,6.5), (8,3.5), (4,5), (7.5,1), (2.5,5), (3,0.1), (8.1,6)])\n",
    "\n",
    "shape_bad1 = np.array([(-1,2), (1,-2), (0,0), (2,1), (-1,-2)])"
   ]
  },
  {
   "cell_type": "code",
   "execution_count": 25,
   "metadata": {},
   "outputs": [
    {
     "name": "stdout",
     "output_type": "stream",
     "text": [
      "vertical segment\n",
      "vertical segment\n"
     ]
    },
    {
     "ename": "ValueError",
     "evalue": "0 is not in list",
     "output_type": "error",
     "traceback": [
      "\u001b[1;31m---------------------------------------------------------------------------\u001b[0m",
      "\u001b[1;31mValueError\u001b[0m                                Traceback (most recent call last)",
      "\u001b[1;32m<ipython-input-25-93b7a791586a>\u001b[0m in \u001b[0;36m<module>\u001b[1;34m\u001b[0m\n\u001b[0;32m      1\u001b[0m \u001b[0msh\u001b[0m \u001b[1;33m=\u001b[0m \u001b[0mshape_bad1\u001b[0m\u001b[1;33m\u001b[0m\u001b[1;33m\u001b[0m\u001b[0m\n\u001b[1;32m----> 2\u001b[1;33m \u001b[0minters\u001b[0m \u001b[1;33m=\u001b[0m \u001b[0mfind_intersecting_sements\u001b[0m\u001b[1;33m(\u001b[0m\u001b[0msh\u001b[0m\u001b[1;33m)\u001b[0m\u001b[1;33m\u001b[0m\u001b[1;33m\u001b[0m\u001b[0m\n\u001b[0m\u001b[0;32m      3\u001b[0m \u001b[0minters_points\u001b[0m \u001b[1;33m=\u001b[0m \u001b[0mcompute_intersection_points\u001b[0m\u001b[1;33m(\u001b[0m\u001b[0msh\u001b[0m\u001b[1;33m,\u001b[0m \u001b[0minters\u001b[0m\u001b[1;33m)\u001b[0m\u001b[1;33m\u001b[0m\u001b[1;33m\u001b[0m\u001b[0m\n",
      "\u001b[1;32m<ipython-input-4-59df2af7a840>\u001b[0m in \u001b[0;36mfind_intersecting_sements\u001b[1;34m(shape)\u001b[0m\n\u001b[0;32m     48\u001b[0m         \u001b[1;32melif\u001b[0m \u001b[0mvx_next\u001b[0m \u001b[1;33m<\u001b[0m \u001b[0mvx\u001b[0m \u001b[1;32mand\u001b[0m \u001b[0mvx_prev\u001b[0m \u001b[1;33m<\u001b[0m \u001b[0mvx\u001b[0m\u001b[1;33m:\u001b[0m\u001b[1;33m\u001b[0m\u001b[1;33m\u001b[0m\u001b[0m\n\u001b[0;32m     49\u001b[0m \u001b[1;33m\u001b[0m\u001b[0m\n\u001b[1;32m---> 50\u001b[1;33m             \u001b[0mcoming_segm_1i\u001b[0m \u001b[1;33m=\u001b[0m \u001b[0mlist\u001b[0m\u001b[1;33m(\u001b[0m\u001b[0mvertical_inters_segments\u001b[0m\u001b[1;33m)\u001b[0m\u001b[1;33m.\u001b[0m\u001b[0mindex\u001b[0m\u001b[1;33m(\u001b[0m\u001b[1;33m(\u001b[0m\u001b[0mvi\u001b[0m\u001b[1;33m-\u001b[0m\u001b[1;36m1\u001b[0m\u001b[1;33m)\u001b[0m\u001b[1;33m%\u001b[0m\u001b[0mL\u001b[0m\u001b[1;33m)\u001b[0m\u001b[1;33m\u001b[0m\u001b[1;33m\u001b[0m\u001b[0m\n\u001b[0m\u001b[0;32m     51\u001b[0m             \u001b[0mcoming_segm_2i\u001b[0m \u001b[1;33m=\u001b[0m \u001b[0mlist\u001b[0m\u001b[1;33m(\u001b[0m\u001b[0mvertical_inters_segments\u001b[0m\u001b[1;33m)\u001b[0m\u001b[1;33m.\u001b[0m\u001b[0mindex\u001b[0m\u001b[1;33m(\u001b[0m\u001b[0mvi\u001b[0m\u001b[1;33m)\u001b[0m\u001b[1;33m\u001b[0m\u001b[1;33m\u001b[0m\u001b[0m\n\u001b[0;32m     52\u001b[0m             \u001b[0mvertical_inters_segments\u001b[0m \u001b[1;33m=\u001b[0m \u001b[0mnp\u001b[0m\u001b[1;33m.\u001b[0m\u001b[0mdelete\u001b[0m\u001b[1;33m(\u001b[0m\u001b[0mvertical_inters_segments\u001b[0m\u001b[1;33m,\u001b[0m \u001b[1;33m[\u001b[0m\u001b[0mcoming_segm_1i\u001b[0m\u001b[1;33m,\u001b[0m \u001b[0mcoming_segm_2i\u001b[0m\u001b[1;33m]\u001b[0m\u001b[1;33m)\u001b[0m\u001b[1;33m\u001b[0m\u001b[1;33m\u001b[0m\u001b[0m\n",
      "\u001b[1;31mValueError\u001b[0m: 0 is not in list"
     ]
    }
   ],
   "source": [
    "sh = shape_bad1\n",
    "inters = find_intersecting_sements(sh)\n",
    "inters_points = compute_intersection_points(sh, inters)"
   ]
  },
  {
   "cell_type": "code",
   "execution_count": null,
   "metadata": {},
   "outputs": [],
   "source": [
    "inters, inters_points"
   ]
  },
  {
   "cell_type": "code",
   "execution_count": 26,
   "metadata": {},
   "outputs": [
    {
     "data": {
      "image/png": "[encoded data removed]",
      "text/plain": [
       "<Figure size 432x288 with 1 Axes>"
      ]
     },
     "metadata": {
      "needs_background": "light"
     },
     "output_type": "display_data"
    }
   ],
   "source": [
    "close_shape = np.row_stack((sh,sh[0]))\n",
    "plt.plot(close_shape[:,0], close_shape[:,1], c='r')\n",
    "for i, v in enumerate(sh):\n",
    "    x = (v + close_shape[i+1])/2\n",
    "    plt.annotate(i, x, fontsize=14, c='r')\n",
    "    plt.annotate(i, v, fontsize=14, c='k')\n",
    "    \n",
    "if len(inters_points) > 0:\n",
    "    plt.scatter(inters_points[:,0], inters_points[:,1])\n",
    "for i, v in enumerate(inters_points):\n",
    "    plt.annotate(i, v, fontsize=14, c='b')"
   ]
  },
  {
   "cell_type": "code",
   "execution_count": 9,
   "metadata": {},
   "outputs": [],
   "source": [
    "# To get from find_intersecting_sements\n",
    "sorted_vert_x = np.argsort(sh[:,0])"
   ]
  },
  {
   "cell_type": "code",
   "execution_count": 10,
   "metadata": {},
   "outputs": [],
   "source": [
    "segm_to_inters = dict()\n",
    "for i in range(len(inters)):\n",
    "    pair, point = inters[i], inters_points[i]\n",
    "    for j in [0,1]:\n",
    "        if pair[j] not in segm_to_inters:\n",
    "            segm_to_inters[pair[j]] = [(pair[1-j], point, i)]\n",
    "        else:\n",
    "            segm_to_inters[pair[j]].append((pair[1-j], point, i))"
   ]
  },
  {
   "cell_type": "code",
   "execution_count": 21,
   "metadata": {},
   "outputs": [],
   "source": [
    "def find_closest_connected_point_from_v(vi, next_vi):\n",
    "    segm_i = next_vi\n",
    "    if next_vi == (vi + 1)%len(sh):\n",
    "        segm_i = vi\n",
    "\n",
    "    if segm_i not in segm_to_inters:\n",
    "        return next_vi, False, segm_i\n",
    "    else:\n",
    "        dist_inters = []\n",
    "        for inter in segm_to_inters[segm_i]:\n",
    "            dist_inters.append(norm(sh[vi] - inter[1]))\n",
    "        #print(dist_inters)\n",
    "        closest_index = np.argmin(dist_inters)\n",
    "        return segm_to_inters[segm_i][closest_index][2], True, segm_i\n",
    "    \n",
    "def find_closest_connected_point_from_inter(ii, next_vi):\n",
    "    if inters[ii][0] == next_vi or inters[ii][0] == (next_vi - 1)%len(sh):\n",
    "        segm_i = inters[ii][0]\n",
    "    elif inters[ii][1] == next_vi or inters[ii][1] == (next_vi - 1)%len(sh):\n",
    "        segm_i = inters[ii][1]\n",
    "    else:\n",
    "        print('inconsistent')\n",
    "        return\n",
    "    \n",
    "    middle_inters, dists = [], []\n",
    "    ii_p = inters_points[ii]\n",
    "    dx_sign = np.sign(sh[next_vi][0] - ii_p[0])\n",
    "    for inter in segm_to_inters[segm_i]:\n",
    "        if dx_sign * np.sign(inter[1][0] - ii_p[0]) > 0:\n",
    "            middle_inters.append(inter[2])\n",
    "            dists.append(norm(ii_p - inter[1]))\n",
    "    if len(middle_inters) == 0:\n",
    "        return next_vi, False, segm_i\n",
    "    else:\n",
    "        closest_index = np.argmin(dists)\n",
    "        return middle_inters[closest_index], True, segm_i\n",
    "    \n",
    "    \n",
    "def angle(p1, p2, origin):\n",
    "    x1 = p1[0] - origin[0]\n",
    "    x2 = p2[0] - origin[0]\n",
    "    y1 = p1[1] - origin[1]\n",
    "    y2 = p2[1] - origin[1]\n",
    "    t1, t2 = np.arctan2([x1, x2], [y1, y2])\n",
    "    return (t2 - t1)%(2*np.pi)"
   ]
  },
  {
   "cell_type": "code",
   "execution_count": 22,
   "metadata": {},
   "outputs": [
    {
     "name": "stdout",
     "output_type": "stream",
     "text": [
      "2\n",
      "7\n",
      "6\n",
      "9\n",
      "5\n",
      "4\n",
      "9\n",
      "3\n",
      "4\n",
      "9\n",
      "8\n",
      "4\n",
      "5\n",
      "8\n",
      "2\n",
      "6\n",
      "7\n",
      "2\n",
      "1\n",
      "8\n",
      "7\n",
      "0\n",
      "1\n"
     ]
    }
   ],
   "source": [
    "points = [sorted_vert_x[0]]\n",
    "is_inters = [False]\n",
    "coords = [sh[sorted_vert_x[0]]]\n",
    "n_iter = 0\n",
    "\n",
    "p1 = [sh[points[0]][0], sh[points[0]][1] + 1]\n",
    "if angle(p1, sh[(points[-1]-1)%len(sh)], sh[points[0]]) < angle(p1, sh[(points[-1]+1)%len(sh)], sh[points[0]]):\n",
    "    next_vi = (points[-1]-1)%len(sh)\n",
    "else:\n",
    "    next_vi = (points[-1]+1)%len(sh)\n",
    "#print(next_vi)\n",
    "\n",
    "while True:\n",
    "    \n",
    "    if not is_inters[-1]:\n",
    "        i, is_inters_next, segm_i = find_closest_connected_point_from_v(points[-1], next_vi)\n",
    "    else:\n",
    "        i, is_inters_next, segm_i = find_closest_connected_point_from_inter(points[-1], next_vi)\n",
    "    #print(points[-1], is_inters[-1], i, is_inters_next)\n",
    "\n",
    "    if not is_inters_next:\n",
    "        if not is_inters[-1]:\n",
    "            if (i+1)%len(sh) == points[-1]:\n",
    "                next_vi = (i-1)%len(sh)\n",
    "            else:\n",
    "                next_vi = (i+1)%len(sh)\n",
    "        else:\n",
    "            vi_aux = (next_vi-1)%len(sh)\n",
    "            if vi_aux != segm_i and vi_aux != (segm_i + 1) % len(sh):\n",
    "                next_vi = vi_aux\n",
    "            else:\n",
    "                next_vi = (next_vi+1)%len(sh)\n",
    "                \n",
    "        coords.append(sh[i])\n",
    "        \n",
    "    else:\n",
    "        \n",
    "        #print('find next v from',  i)\n",
    "        #print(i, next_vi)\n",
    "        p1, p2 = coords[-1], inters_points[i]\n",
    "        next_vis, angles = [], []\n",
    "        for j1 in range(2):\n",
    "            for j2 in range(2):\n",
    "                vi_aux = (inters[i][j1] + j2) % len(sh)\n",
    "                if vi_aux != segm_i and vi_aux != (segm_i + 1) % len(sh):\n",
    "                    next_vis.append(vi_aux)\n",
    "                    angles.append(angle(p1, sh[vi_aux], p2))\n",
    "                    \n",
    "        #print(next_vis, angles)\n",
    "        next_vi = next_vis[np.argmin(angles)]\n",
    "        coords.append(inters_points[i])\n",
    "        \n",
    "    points.append(i)\n",
    "    is_inters.append(is_inters_next)\n",
    "    n_iter += 1\n",
    "    print(next_vi)\n",
    "    \n",
    "    if (points[0] == points[-1] and not is_inters[-1]) or n_iter > len(sh) * (1 + len(inters)):\n",
    "        coords = np.array(coords)\n",
    "        break"
   ]
  },
  {
   "cell_type": "code",
   "execution_count": 23,
   "metadata": {},
   "outputs": [
    {
     "data": {
      "image/png": "[encoded data removed]",
      "text/plain": [
       "<Figure size 432x288 with 1 Axes>"
      ]
     },
     "metadata": {
      "needs_background": "light"
     },
     "output_type": "display_data"
    }
   ],
   "source": [
    "close_shape = np.row_stack((sh,sh[0]))\n",
    "plt.plot(close_shape[:,0], close_shape[:,1], c='r')\n",
    "for i, v in enumerate(sh):\n",
    "    x = (v + close_shape[i+1])/2\n",
    "    plt.annotate(i, x, fontsize=14, c='r')\n",
    "    plt.annotate(i, v, fontsize=14, c='k')\n",
    "    \n",
    "if len(inters_points) > 0:\n",
    "    plt.scatter(inters_points[:,0], inters_points[:,1])\n",
    "for i, v in enumerate(inters_points):\n",
    "    plt.annotate(i, v, fontsize=14, c='b')"
   ]
  },
  {
   "cell_type": "code",
   "execution_count": 24,
   "metadata": {},
   "outputs": [
    {
     "data": {
      "text/plain": [
       "[<matplotlib.lines.Line2D at 0x163579767c0>]"
      ]
     },
     "execution_count": 24,
     "metadata": {},
     "output_type": "execute_result"
    },
    {
     "data": {
      "image/png": "[encoded data removed]",
      "text/plain": [
       "<Figure size 432x288 with 1 Axes>"
      ]
     },
     "metadata": {
      "needs_background": "light"
     },
     "output_type": "display_data"
    }
   ],
   "source": [
    "plt.plot(np.array(coords)[:,0], np.array(coords)[:,1])"
   ]
  },
  {
   "cell_type": "code",
   "execution_count": 20,
   "metadata": {},
   "outputs": [],
   "source": [
    "# TODO\n",
    "# lati poligono verticali\n",
    "# inersezioni corrispondenti a vertici"
   ]
  },
  {
   "cell_type": "code",
   "execution_count": 104,
   "metadata": {},
   "outputs": [
    {
     "data": {
      "text/plain": [
       "[0, 1, 2, 1, 0]"
      ]
     },
     "execution_count": 104,
     "metadata": {},
     "output_type": "execute_result"
    }
   ],
   "source": [
    "points"
   ]
  },
  {
   "cell_type": "code",
   "execution_count": 105,
   "metadata": {},
   "outputs": [
    {
     "data": {
      "text/plain": [
       "[False, True, True, False, False]"
      ]
     },
     "execution_count": 105,
     "metadata": {},
     "output_type": "execute_result"
    }
   ],
   "source": [
    "is_inters"
   ]
  },
  {
   "cell_type": "code",
   "execution_count": 10,
   "metadata": {},
   "outputs": [
    {
     "data": {
      "text/plain": [
       "2"
      ]
     },
     "execution_count": 10,
     "metadata": {},
     "output_type": "execute_result"
    }
   ],
   "source": [
    "(-1)%3"
   ]
  },
  {
   "cell_type": "code",
   "execution_count": 25,
   "metadata": {},
   "outputs": [
    {
     "data": {
      "text/plain": [
       "249"
      ]
     },
     "execution_count": 25,
     "metadata": {},
     "output_type": "execute_result"
    }
   ],
   "source": [
    "-11%260"
   ]
  },
  {
   "cell_type": "code",
   "execution_count": null,
   "metadata": {},
   "outputs": [],
   "source": []
  }
 ],
 "metadata": {
  "kernelspec": {
   "display_name": "Python 3",
   "language": "python",
   "name": "python3"
  },
  "language_info": {
   "codemirror_mode": {
    "name": "ipython",
    "version": 3
   },
   "file_extension": ".py",
   "mimetype": "text/x-python",
   "name": "python",
   "nbconvert_exporter": "python",
   "pygments_lexer": "ipython3",
   "version": "3.8.5"
  }
 },
 "nbformat": 4,
 "nbformat_minor": 4
}
